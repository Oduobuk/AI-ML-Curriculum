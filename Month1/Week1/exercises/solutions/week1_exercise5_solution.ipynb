{
 "cells": [
  {
   "cell_type": "markdown",
   "metadata": {},
   "source": [
    "# Week 1 - Jupyter Notebook Basics\n",
    "\n",
    "This notebook contains the solution to Exercise 5 from Week 1, which covers basic Jupyter Notebook operations."
   ]
  },
  {
   "cell_type": "markdown",
   "metadata": {},
   "source": [
    "## Importing Required Libraries\n",
    "\n",
    "First, let's import the necessary Python libraries for data manipulation and visualization."
   ]
  },
  {
   "cell_type": "code",
   "execution_count": null,
   "metadata": {},
   "outputs": [],
   "source": [
    "import numpy as np\n",
    "import pandas as pd\n",
    "import matplotlib.pyplot as plt"
   ]
  },
  {
   "cell_type": "markdown",
   "metadata": {},
   "source": [
    "## Creating a Simple Line Plot\n",
    "\n",
    "Let's create a line plot of the function y = x² for x values ranging from -10 to 10."
   ]
  },
  {
   "cell_type": "code",
   "execution_count": null,
   "metadata": {},
   "outputs": [],
   "source": [
    "# Generate x values from -10 to 10 with 100 points\n",
    "x = np.linspace(-10, 10, 100)\n",
    "\n",
    "# Calculate y = x²\n",
    "y = x ** 2\n",
    "\n",
    "# Create the plot\n",
    "plt.figure(figsize=(10, 6))  # Set figure size\n",
    "plt.plot(x, y, 'b-', linewidth=2)  # Blue solid line with thickness 2\n",
    "plt.title('Graph of y = x²', fontsize=14)  # Title\n",
    "plt.xlabel('x', fontsize=12)  # X-axis label\n",
    "plt.ylabel('y = x²', fontsize=12)  # Y-axis label\n",
    "plt.grid(True, linestyle='--', alpha=0.7)  # Add grid lines\n",
    "plt.axhline(y=0, color='k', linestyle='-', linewidth=0.5)  # X-axis\n",
    "plt.axvline(x=0, color='k', linestyle='-', linewidth=0.5)  # Y-axis\n",
    "plt.show()  # Display the plot"
   ]
  },
  {
   "cell_type": "markdown",
   "metadata": {},
   "source": [
    "## Understanding the Plot\n",
    "\n",
    "The graph above shows a parabola, which is the shape of the function y = x². Key characteristics include:\n",
    "\n",
    "1. **Vertex**: The lowest point at (0,0) where the curve changes direction.\n",
    "2. **Symmetry**: The graph is symmetric about the y-axis.\n",
    "3. **Increasing/Decreasing**: The function decreases for x < 0 and increases for x > 0.\n",
    "4. **Curvature**: The curve becomes steeper as |x| increases."
   ]
  },
  {
   "cell_type": "markdown",
   "metadata": {},
   "source": [
    "## Additional Analysis\n",
    "\n",
    "Let's calculate some specific values and add them to a pandas DataFrame for better visualization."
   ]
  },
  {
   "cell_type": "code",
   "execution_count": null,
   "metadata": {},
   "outputs": [],
   "source": [
    "# Create a DataFrame with x and y values\n",
    "data = pd.DataFrame({\n",
    "    'x': x[::10],  # Take every 10th point for clarity\n",
    "    'y': y[::10]   # Corresponding y values\n",
    "})\n",
    "\n",
    "# Display the first 10 rows of the DataFrame\n",
    "print(\"Sample of (x, y) points:\")\n",
    "data.head(10)"
   ]
  },
  {
   "cell_type": "markdown",
   "metadata": {},
   "source": [
    "## Key Takeaways\n",
    "\n",
    "1. Jupyter Notebooks provide an interactive environment for data analysis and visualization.\n",
    "2. The `matplotlib` library is powerful for creating a variety of plots.\n",
    "3. The function y = x² is a fundamental quadratic function with many applications in mathematics and physics.\n",
    "4. Understanding how to visualize mathematical functions is crucial for data analysis and machine learning."
   ]
  },
  {
   "cell_type": "markdown",
   "metadata": {},
   "source": [
    "## Next Steps\n",
    "\n",
    "1. Try modifying the code to plot different functions (e.g., y = x³, y = sin(x)).\n",
    "2. Experiment with different plot styles and customizations.\n",
    "3. Explore other types of plots available in matplotlib (e.g., scatter plots, bar charts)."
   ]
  }
 ],
 "metadata": {
  "kernelspec": {
   "display_name": "Python 3",
   "language": "python",
   "name": "python3"
  },
  "language_info": {
   "codemirror_mode": {
    "name": "ipython",
    "version": 3
   },
   "file_extension": ".py",
   "mimetype": "text/x-python",
   "name": "python",
   "nbconvert_exporter": "python",
   "pygments_lexer": "ipython3",
   "version": "3.8.5"
  }
 },
 "nbformat": 4,
 "nbformat_minor": 4
}
