{
 "cells": [
  {
   "cell_type": "markdown",
   "metadata": {},
   "source": [
    "# Week 4: Support Vector Machines and Model Evaluation\n",
    "\n",
    "This notebook contains exercises for Week 4 of the curriculum. Follow the instructions in each section to complete the exercises."
   ]
  },
  {
   "cell_type": "markdown",
   "metadata": {},
   "source": [
    "## Exercise 1: SVM Implementation\n",
    "\n",
    "### Instructions\n",
    "1. Load the Iris dataset\n",
    "2. Split the data into training and testing sets\n",
    "3. Train an SVM with a linear kernel\n",
    "4. Visualize the decision boundary\n",
    "5. Calculate the accuracy score"
   ]
  },
  {
   "cell_type": "code",
   "execution_count": null,
   "metadata": {},
   "outputs": [],
   "source": [
    "# Your code here\n",
    "import numpy as np\n",
    "import matplotlib.pyplot as plt\n",
    "from sklearn import datasets\n",
    "from sklearn.model_selection import train_test_split\n",
    "from sklearn.svm import SVC\n",
    "from sklearn.metrics import accuracy_score"
   ]
  },
  {
   "cell_type": "markdown",
   "metadata": {},
   "source": [
    "## Exercise 2: Kernel Methods\n",
    "\n",
    "### Instructions\n",
    "1. Generate a non-linear dataset using make_moons\n",
    "2. Train SVMs with different kernels\n",
    "3. Visualize the decision boundaries\n",
    "4. Compare their performance"
   ]
  },
  {
   "cell_type": "code",
   "execution_count": null,
   "metadata": {},
   "outputs": [],
   "source": [
    "# Your code here"
   ]
  },
  {
   "cell_type": "markdown",
   "metadata": {},
   "source": [
    "## Exercise 3: Model Evaluation Metrics\n",
    "\n",
    "### Instructions\n",
    "1. Load the Breast Cancer dataset\n",
    "2. Train a classifier\n",
    "3. Calculate and visualize various metrics"
   ]
  },
  {
   "cell_type": "code",
   "execution_count": null,
   "metadata": {},
   "outputs": [],
   "source": [
    "# Your code here"
   ]
  }
 ],
 "metadata": {
  "kernelspec": {
   "display_name": "Python 3",
   "language": "python",
   "name": "python3"
  },
  "language_info": {
   "codemirror_mode": {
    "name": "ipython",
    "version": 3
   },
   "file_extension": ".py",
   "mimetype": "text/x-python",
   "name": "python",
   "nbconvert_exporter": "python",
   "pygments_lexer": "ipython3",
   "version": "3.8.0"
  }
 },
 "nbformat": 4,
 "nbformat_minor": 4
}
