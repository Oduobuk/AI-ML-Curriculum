{
 "cells": [
  {
   "cell_type": "markdown",
   "metadata": {},
   "source": [
    "# Housing Price Prediction - Solution\n",
    "\n",
    "This notebook provides a comprehensive solution to the housing price prediction project, demonstrating best practices for data science workflows."
   ]
  },
  {
   "cell_type": "markdown",
   "metadata": {},
   "source": [
    "## 1. Import Libraries"
   ]
  },
  {
   "cell_type": "code",
   "execution_count": null,
   "metadata": {},
   "outputs": [],
   "source": [
    "import numpy as np\n",
    "import pandas as pd\n",
    "import matplotlib.pyplot as plt\n",
    "import seaborn as sns\n",
    "import sqlite3\n",
    "from sklearn.model_selection import train_test_split, cross_val_score, learning_curve\n",
    "from sklearn.preprocessing import StandardScaler, PolynomialFeatures\n",
    "from sklearn.linear_model import LinearRegression, Ridge, Lasso\n",
    "from sklearn.metrics import mean_squared_error, r2_score\n",
    "from sklearn.pipeline import Pipeline\n",
    "from sklearn.model_selection import GridSearchCV\n",
    "import warnings\n",
    "\n",
    "# Set display options\n",
    "pd.set_option('display.max_columns', None)\n",
    "warnings.filterwarnings('ignore')\n",
    "%matplotlib inline"
   ]
  },
  {
   "cell_type": "markdown",
   "metadata": {},
   "source": [
    "## 2. Load and Explore Data"
   ]
  },
  {
   "cell_type": "code",
   "execution_count": null,
   "metadata": {},
   "outputs": [],
   "source": [
    "def load_data(use_sql=True):\n",
    "    if use_sql:\n",
    "        # Connect to SQLite database\n",
    "        conn = sqlite3.connect('../datasets/housing.db')\n",
    "        query = \"\"\"\n",
    "            SELECT h.*, z.lat, z.long\n",
    "            FROM houses h\n",
    "            JOIN zipcodes z ON h.zipcode = z.zipcode\n",
    "        \"\"\"\n",
    "        df = pd.read_sql_query(query, conn)\n",
    "        conn.close()\n",
    "    else:\n",
    "        # Load from CSV\n",
    "        df = pd.read_csv('../datasets/housing_data_extended.csv')\n",
    
